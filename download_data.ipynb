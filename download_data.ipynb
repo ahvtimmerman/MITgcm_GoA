{
 "cells": [
  {
   "cell_type": "code",
   "execution_count": null,
   "id": "5a89ba58-029d-4a8c-9b61-4d9b4cbaec79",
   "metadata": {},
   "outputs": [],
   "source": [
    "import numpy as np\n",
    "import matplotlib.pyplot as plt\n",
    "import xarray as xr\n",
    "import os"
   ]
  },
  {
   "cell_type": "code",
   "execution_count": null,
   "id": "66a82137-9a27-4422-92a3-293f50f50c2c",
   "metadata": {},
   "outputs": [],
   "source": [
    "! rm *.hdf\n",
    "! rm *.gz\n",
    "! rm *.tar\n",
    "! rm *.tar*"
   ]
  },
  {
   "cell_type": "code",
   "execution_count": null,
   "id": "efb67901-91a1-4045-9fdd-7baefd1809e1",
   "metadata": {},
   "outputs": [],
   "source": [
    "com0='http://orca.science.oregonstate.edu/data/1x2/8day/chl.modis.r2022/hdf/chl.m.20'\n",
    "yr=['{0:02d}'.format(i) for i in np.arange(3,23)]\n",
    "year=np.arange(2003,2023,1)\n",
    "dayinmon=[31,28,31,30,31,30,31,31,30,31,30,31]\n",
    "cday=np.cumsum(dayinmon)"
   ]
  },
  {
   "cell_type": "code",
   "execution_count": null,
   "id": "5a9b1238-6e74-4688-a38e-df834bbf962a",
   "metadata": {},
   "outputs": [],
   "source": [
    "# download data and generate HDF files\n",
    "def get_data(yr0):\n",
    "    os.system('wget '+com0+yr0+'.tar >/dev/null 2>&1')\n",
    "    os.system('tar -xvf chl.m.20'+yr0+'.tar >/dev/null 2>&1')\n",
    "    os.system('rm chl.m.20'+yr0+'.tar')\n",
    "    os.system('gunzip *.gz')"
   ]
  },
  {
   "cell_type": "code",
   "execution_count": null,
   "id": "8f06f9c7-9d2c-4433-a9d4-17e3663e191d",
   "metadata": {},
   "outputs": [],
   "source": [
    "# read in HDF file and save GoA data in netCDF format\n",
    "def gen_netcdf(year):\n",
    "    ! ls *.hdf > fn.txt\n",
    "    fn=np.genfromtxt('fn.txt',dtype='U16')\n",
    "    N=np.size(fn)\n",
    "    #print(N)\n",
    "    ds0=xr.open_dataset('../npp_CAFE-MODIS_8day_GOA.nc')\n",
    "    time=ds0.time.sel(time=slice(str(year)+'-01-01',str(year+1)+'-01-01')).to_numpy()\n",
    "    #print(time.shape)\n",
    "    tmp=np.zeros((N,120,240))\n",
    "    for n in range(N):\n",
    "        ds=xr.open_dataset(fn[n], engine=\"netcdf4\")\n",
    "        x=np.linspace(-180,180,2160)\n",
    "        y=np.linspace(-90,90,1080)\n",
    "        chl=ds.chl.to_numpy()\n",
    "        chl[chl==-9999]=np.nan\n",
    "        da=xr.DataArray(data=chl[::-1,:],name='chl',dims=['lat','lon'],\n",
    "               coords={'lat':y,'lon':x})\n",
    "        da2=da.sel(lat=slice(42,62)).sel(lon=slice(-160,-120))\n",
    "        x0=da2.lon.to_numpy()\n",
    "        y0=da2.lat.to_numpy()\n",
    "        tmp[n,:,:]=da2.to_numpy()\n",
    "    #\n",
    "    da=xr.DataArray(data=tmp,name='chl',dims=['time','lat','lon'],\\\n",
    "                   coords={'time':time[:N],'lat':y0,'lon':x0})\n",
    "    ds=da.to_dataset()\n",
    "    ! rm *.hdf\n",
    "    return ds"
   ]
  },
  {
   "cell_type": "code",
   "execution_count": null,
   "id": "2ed63472-d501-4b29-b851-c39495b7361c",
   "metadata": {},
   "outputs": [],
   "source": [
    "Nyr = np.size(yr)\n",
    "for n in range(Nyr):\n",
    "    get_data(yr[n])\n",
    "    ds=gen_netcdf(year[n])\n",
    "    ds.to_netcdf('npp_Chl-MODIS_8day_GOA_'+str(year[n])+'.nc')"
   ]
  },
  {
   "cell_type": "code",
   "execution_count": null,
   "id": "dea20a38-3417-4b61-b9f5-62b3bdb931e2",
   "metadata": {},
   "outputs": [],
   "source": [
    "ds=xr.open_mfdataset('npp_Chl-MODIS_8day_GOA_*.nc')"
   ]
  },
  {
   "cell_type": "code",
   "execution_count": null,
   "id": "1eeab330-33ad-4237-a4d1-f5c041aba961",
   "metadata": {},
   "outputs": [],
   "source": [
    "ds.to_netcdf('chl_MODIS_8day_GOA.nc')"
   ]
  },
  {
   "cell_type": "code",
   "execution_count": null,
   "id": "a2286848-de8e-4286-bde5-98e6f607eb8a",
   "metadata": {},
   "outputs": [],
   "source": []
  }
 ],
 "metadata": {
  "kernelspec": {
   "display_name": "calc2",
   "language": "python",
   "name": "calc2"
  },
  "language_info": {
   "codemirror_mode": {
    "name": "ipython",
    "version": 3
   },
   "file_extension": ".py",
   "mimetype": "text/x-python",
   "name": "python",
   "nbconvert_exporter": "python",
   "pygments_lexer": "ipython3",
   "version": "3.8.16"
  }
 },
 "nbformat": 4,
 "nbformat_minor": 5
}
